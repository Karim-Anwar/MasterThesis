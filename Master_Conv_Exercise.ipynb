{
  "nbformat": 4,
  "nbformat_minor": 0,
  "metadata": {
    "colab": {
      "provenance": [],
      "authorship_tag": "ABX9TyPgY021VPhrl+KlDKoeD5bo",
      "include_colab_link": true
    },
    "kernelspec": {
      "name": "python3",
      "display_name": "Python 3"
    },
    "language_info": {
      "name": "python"
    }
  },
  "cells": [
    {
      "cell_type": "markdown",
      "metadata": {
        "id": "view-in-github",
        "colab_type": "text"
      },
      "source": [
        "<a href=\"https://colab.research.google.com/github/Karim-Anwar/MasterThesis/blob/main/Master_Conv_Exercise.ipynb\" target=\"_parent\"><img src=\"https://colab.research.google.com/assets/colab-badge.svg\" alt=\"Open In Colab\"/></a>"
      ]
    },
    {
      "cell_type": "code",
      "execution_count": 2,
      "metadata": {
        "id": "ku3WmrJvo2Xk"
      },
      "outputs": [],
      "source": [
        "from __future__ import print_function, division\n",
        "\n",
        "import argparse\n",
        "import datetime\n",
        "import os\n",
        "import os.path as osp\n",
        "import time\n",
        "\n",
        "import numpy as np\n",
        "import pandas as pd\n",
        "import matplotlib.pyplot as plt\n",
        "\n",
        "import torch\n",
        "import torch.nn as nn\n",
        "import torch.optim as optim\n",
        "from torch.optim import lr_scheduler\n",
        "import torch.nn.functional as F\n",
        "from torch.utils.data import DataLoader, Dataset\n",
        "from torchvision import datasets, transforms\n",
        "from torch import save, load\n",
        "from torch.nn import Conv2d\n",
        "from torch.nn import Linear\n"
      ]
    },
    {
      "cell_type": "code",
      "source": [
        "#channels (1 to 3) size = sample size, height, width\n",
        "torch.randint(1, 4, size=(5,4,5))"
      ],
      "metadata": {
        "colab": {
          "base_uri": "https://localhost:8080/"
        },
        "id": "JGj7IuPNpbE2",
        "outputId": "3e80b218-b600-4e7c-af17-a3247fdd2f87"
      },
      "execution_count": 3,
      "outputs": [
        {
          "output_type": "execute_result",
          "data": {
            "text/plain": [
              "tensor([[[2, 2, 3, 3, 1],\n",
              "         [1, 3, 1, 3, 1],\n",
              "         [1, 1, 3, 3, 3],\n",
              "         [2, 1, 3, 1, 3]],\n",
              "\n",
              "        [[1, 1, 2, 2, 1],\n",
              "         [1, 2, 2, 1, 2],\n",
              "         [1, 2, 1, 1, 1],\n",
              "         [3, 3, 1, 1, 1]],\n",
              "\n",
              "        [[3, 1, 2, 3, 1],\n",
              "         [3, 2, 3, 3, 3],\n",
              "         [3, 2, 1, 1, 2],\n",
              "         [2, 3, 3, 1, 1]],\n",
              "\n",
              "        [[2, 2, 3, 3, 1],\n",
              "         [2, 1, 2, 2, 2],\n",
              "         [3, 1, 2, 1, 1],\n",
              "         [2, 2, 1, 1, 3]],\n",
              "\n",
              "        [[2, 1, 2, 3, 1],\n",
              "         [3, 3, 1, 3, 1],\n",
              "         [2, 2, 3, 2, 3],\n",
              "         [2, 2, 2, 2, 2]]])"
            ]
          },
          "metadata": {},
          "execution_count": 3
        }
      ]
    },
    {
      "cell_type": "code",
      "source": [
        "# Set random seed for reproducibility\n",
        "torch.manual_seed(42)\n",
        "\n",
        "width = 5\n",
        "height = 4\n",
        "channels = 3\n",
        "sample_size = 100\n",
        "rand_images = torch.rand(sample_size, width, height, channels)\n",
        "rand_labels = torch.randint(0,3, size=(sample_size,))"
      ],
      "metadata": {
        "id": "Cg02B9Mk1U9D"
      },
      "execution_count": 4,
      "outputs": []
    },
    {
      "cell_type": "code",
      "source": [
        "rand_images"
      ],
      "metadata": {
        "colab": {
          "base_uri": "https://localhost:8080/"
        },
        "id": "bM2Lp84215zN",
        "outputId": "8bc8e37d-3089-4880-c866-91f7928d9d2d"
      },
      "execution_count": 5,
      "outputs": [
        {
          "output_type": "execute_result",
          "data": {
            "text/plain": [
              "tensor([[[[0.8823, 0.9150, 0.3829],\n",
              "          [0.9593, 0.3904, 0.6009],\n",
              "          [0.2566, 0.7936, 0.9408],\n",
              "          [0.1332, 0.9346, 0.5936]],\n",
              "\n",
              "         [[0.8694, 0.5677, 0.7411],\n",
              "          [0.4294, 0.8854, 0.5739],\n",
              "          [0.2666, 0.6274, 0.2696],\n",
              "          [0.4414, 0.2969, 0.8317]],\n",
              "\n",
              "         [[0.1053, 0.2695, 0.3588],\n",
              "          [0.1994, 0.5472, 0.0062],\n",
              "          [0.9516, 0.0753, 0.8860],\n",
              "          [0.5832, 0.3376, 0.8090]],\n",
              "\n",
              "         [[0.5779, 0.9040, 0.5547],\n",
              "          [0.3423, 0.6343, 0.3644],\n",
              "          [0.7104, 0.9464, 0.7890],\n",
              "          [0.2814, 0.7886, 0.5895]],\n",
              "\n",
              "         [[0.7539, 0.1952, 0.0050],\n",
              "          [0.3068, 0.1165, 0.9103],\n",
              "          [0.6440, 0.7071, 0.6581],\n",
              "          [0.4913, 0.8913, 0.1447]]],\n",
              "\n",
              "\n",
              "        [[[0.5315, 0.1587, 0.6542],\n",
              "          [0.3278, 0.6532, 0.3958],\n",
              "          [0.9147, 0.2036, 0.2018],\n",
              "          [0.2018, 0.9497, 0.6666]],\n",
              "\n",
              "         [[0.9811, 0.0874, 0.0041],\n",
              "          [0.1088, 0.1637, 0.7025],\n",
              "          [0.6790, 0.9155, 0.2418],\n",
              "          [0.1591, 0.7653, 0.2979]],\n",
              "\n",
              "         [[0.8035, 0.3813, 0.7860],\n",
              "          [0.1115, 0.2477, 0.6524],\n",
              "          [0.6057, 0.3725, 0.7980],\n",
              "          [0.8399, 0.1374, 0.2331]],\n",
              "\n",
              "         [[0.9578, 0.3313, 0.3227],\n",
              "          [0.0162, 0.2137, 0.6249],\n",
              "          [0.4340, 0.1371, 0.5117],\n",
              "          [0.1585, 0.0758, 0.2247]],\n",
              "\n",
              "         [[0.0624, 0.1816, 0.9998],\n",
              "          [0.5944, 0.6541, 0.0337],\n",
              "          [0.1716, 0.3336, 0.5782],\n",
              "          [0.0600, 0.2846, 0.2007]]],\n",
              "\n",
              "\n",
              "        [[[0.5014, 0.3139, 0.4654],\n",
              "          [0.1612, 0.1568, 0.2083],\n",
              "          [0.3289, 0.1054, 0.9192],\n",
              "          [0.4008, 0.9302, 0.6558]],\n",
              "\n",
              "         [[0.0766, 0.8460, 0.3624],\n",
              "          [0.3083, 0.0850, 0.0029],\n",
              "          [0.6431, 0.3908, 0.6947],\n",
              "          [0.0897, 0.8712, 0.1330]],\n",
              "\n",
              "         [[0.4137, 0.6044, 0.7581],\n",
              "          [0.9037, 0.9555, 0.1035],\n",
              "          [0.6258, 0.2849, 0.4452],\n",
              "          [0.1258, 0.9554, 0.1330]],\n",
              "\n",
              "         [[0.7672, 0.6757, 0.6625],\n",
              "          [0.2297, 0.9545, 0.6099],\n",
              "          [0.5643, 0.0594, 0.7099],\n",
              "          [0.4250, 0.2709, 0.9295]],\n",
              "\n",
              "         [[0.6115, 0.2234, 0.2469],\n",
              "          [0.4761, 0.7792, 0.3722],\n",
              "          [0.2147, 0.3288, 0.1265],\n",
              "          [0.6783, 0.8870, 0.0293]]],\n",
              "\n",
              "\n",
              "        ...,\n",
              "\n",
              "\n",
              "        [[[0.9867, 0.9800, 0.3773],\n",
              "          [0.2866, 0.7123, 0.9264],\n",
              "          [0.5124, 0.3816, 0.4191],\n",
              "          [0.3215, 0.7401, 0.0027]],\n",
              "\n",
              "         [[0.9255, 0.4816, 0.1969],\n",
              "          [0.3216, 0.1931, 0.0655],\n",
              "          [0.5503, 0.3864, 0.2756],\n",
              "          [0.4148, 0.4311, 0.7203]],\n",
              "\n",
              "         [[0.0955, 0.4883, 0.4932],\n",
              "          [0.0913, 0.9609, 0.2630],\n",
              "          [0.8967, 0.8832, 0.5135],\n",
              "          [0.8723, 0.1238, 0.4450]],\n",
              "\n",
              "         [[0.0876, 0.1956, 0.6580],\n",
              "          [0.8726, 0.2033, 0.2980],\n",
              "          [0.2196, 0.4566, 0.0847],\n",
              "          [0.1042, 0.3912, 0.9804]],\n",
              "\n",
              "         [[0.5861, 0.2919, 0.8343],\n",
              "          [0.8690, 0.8417, 0.5047],\n",
              "          [0.4458, 0.8248, 0.7688],\n",
              "          [0.8791, 0.8601, 0.3581]]],\n",
              "\n",
              "\n",
              "        [[[0.9235, 0.5978, 0.9978],\n",
              "          [0.9974, 0.9193, 0.8328],\n",
              "          [0.8926, 0.2650, 0.3054],\n",
              "          [0.3835, 0.2441, 0.8674]],\n",
              "\n",
              "         [[0.5467, 0.3734, 0.2760],\n",
              "          [0.0548, 0.5359, 0.9395],\n",
              "          [0.8288, 0.8963, 0.8416],\n",
              "          [0.7104, 0.4856, 0.1301]],\n",
              "\n",
              "         [[0.8676, 0.1482, 0.1993],\n",
              "          [0.7006, 0.7746, 0.2398],\n",
              "          [0.8164, 0.0321, 0.6192],\n",
              "          [0.7207, 0.5929, 0.2186]],\n",
              "\n",
              "         [[0.1623, 0.8996, 0.6102],\n",
              "          [0.2852, 0.9816, 0.3956],\n",
              "          [0.4075, 0.6287, 0.9163],\n",
              "          [0.2774, 0.5025, 0.2755]],\n",
              "\n",
              "         [[0.2735, 0.4318, 0.4995],\n",
              "          [0.7681, 0.1265, 0.7902],\n",
              "          [0.8906, 0.4430, 0.4552],\n",
              "          [0.6233, 0.0422, 0.8679]]],\n",
              "\n",
              "\n",
              "        [[[0.4125, 0.5201, 0.7370],\n",
              "          [0.7082, 0.2686, 0.1327],\n",
              "          [0.0176, 0.0825, 0.3949],\n",
              "          [0.1118, 0.4495, 0.2358]],\n",
              "\n",
              "         [[0.7833, 0.8420, 0.9230],\n",
              "          [0.1721, 0.1471, 0.6734],\n",
              "          [0.3858, 0.8792, 0.0413],\n",
              "          [0.9637, 0.1532, 0.0990]],\n",
              "\n",
              "         [[0.4470, 0.2785, 0.1848],\n",
              "          [0.7855, 0.8862, 0.7784],\n",
              "          [0.5610, 0.4280, 0.2272],\n",
              "          [0.9766, 0.2277, 0.0616]],\n",
              "\n",
              "         [[0.9242, 0.4597, 0.8360],\n",
              "          [0.3340, 0.8894, 0.1474],\n",
              "          [0.8009, 0.8892, 0.4930],\n",
              "          [0.8316, 0.5177, 0.0422]],\n",
              "\n",
              "         [[0.7190, 0.1113, 0.5157],\n",
              "          [0.0502, 0.2619, 0.3510],\n",
              "          [0.3057, 0.0075, 0.2517],\n",
              "          [0.0367, 0.0820, 0.0012]]]])"
            ]
          },
          "metadata": {},
          "execution_count": 5
        }
      ]
    },
    {
      "cell_type": "code",
      "source": [
        "rand_labels"
      ],
      "metadata": {
        "colab": {
          "base_uri": "https://localhost:8080/"
        },
        "id": "kDh4SQzC3V2K",
        "outputId": "b0f88b98-bef9-4273-b63e-bbbc54ff437d"
      },
      "execution_count": 6,
      "outputs": [
        {
          "output_type": "execute_result",
          "data": {
            "text/plain": [
              "tensor([2, 1, 0, 0, 0, 2, 0, 2, 2, 1, 0, 1, 1, 2, 0, 1, 1, 1, 2, 2, 1, 0, 1, 0,\n",
              "        2, 0, 2, 1, 0, 0, 2, 2, 2, 2, 2, 2, 2, 1, 0, 2, 2, 1, 2, 0, 0, 1, 2, 0,\n",
              "        0, 1, 1, 0, 0, 2, 1, 0, 2, 2, 0, 0, 0, 2, 0, 2, 1, 0, 1, 1, 2, 1, 1, 2,\n",
              "        2, 2, 0, 1, 2, 1, 0, 2, 1, 0, 1, 0, 2, 2, 2, 1, 0, 0, 0, 2, 2, 0, 0, 1,\n",
              "        0, 1, 0, 2])"
            ]
          },
          "metadata": {},
          "execution_count": 6
        }
      ]
    },
    {
      "cell_type": "code",
      "source": [
        "class RandDataSet(Dataset):\n",
        "  def __init__(self, images, labels):\n",
        "    self.images = images\n",
        "    self.labels = labels\n",
        "\n",
        "  def __len__(self):\n",
        "    return len(self.images)\n",
        "\n",
        "  def __getitem__(self, idx):\n",
        "    image = self.images[idx]\n",
        "    label = self.labels[idx]\n",
        "    return image, label\n",
        "\n"
      ],
      "metadata": {
        "id": "Y601Ko1nudyH"
      },
      "execution_count": 7,
      "outputs": []
    },
    {
      "cell_type": "code",
      "source": [
        "dataset = RandDataSet(rand_images, rand_labels)\n",
        "dataloader = DataLoader(dataset, batch_size=20, shuffle = True)"
      ],
      "metadata": {
        "id": "sBtADz-Xxqv5"
      },
      "execution_count": 8,
      "outputs": []
    },
    {
      "cell_type": "code",
      "source": [
        "# training_data = torch.utils.data.TensorData(input_data, output_lables)"
      ],
      "metadata": {
        "id": "JQacuQNl4McO"
      },
      "execution_count": 9,
      "outputs": []
    },
    {
      "cell_type": "code",
      "source": [
        "class Convolutional2Layer(nn.Module):\n",
        "  def __init__(self, channels, height, width):\n",
        "    super(Convolutional2Layer, self).__init__()\n",
        "    # following the basic structure of a CNN we add a secondary conv layer after pooling to get more detailed features\n",
        "    # intializing the layers requires knowledge on the dataset and multiple testing (ask about it in meeting)\n",
        "    self.conv1 = nn.Conv2d(in_channels=channels, out_channels=16, kernel_size=3, padding=1)\n",
        "    self.pool1 = nn.MaxPool2d(2,2)\n",
        "    self.conv2 = nn.Conv2d(in_channels=16, out_channels=32, kernel_size=3, padding=1)\n",
        "    # do you maxpool again after convolving again (or do we loose to much information)\n",
        "    self.pool2 = nn.MaxPool2d(2,2)\n",
        "    # we divide by foor the dimensions since we max pool twice, 3 is the output classes\n",
        "    self.fc = nn.Linear(32 * width // 4 * height // 4, 3)\n",
        "\n",
        "  def forward(self):\n",
        "    x = self.pool1(F.relu(self.conv1(x)))\n",
        "    x = self.pool2(F.relu(self.conv2(x)))\\\n",
        "    # view(-1) flattens the tensor without modifing it\n",
        "    x = x.view(-1, 32 * (height // 4) * (width // 4))\n",
        "    x = self.fc(x)\n",
        "    return x\n"
      ],
      "metadata": {
        "id": "HQykZcZ9drus"
      },
      "execution_count": 14,
      "outputs": []
    },
    {
      "cell_type": "code",
      "source": [
        "cnn = Convolutional2Layer(channels=channels, height=height, width=width)\n",
        "loss_fn = nn.CrossEntropyLoss()\n",
        "optimizer = optim.SGD(cnn.parameters(), lr=0.01, momentum=0.9)"
      ],
      "metadata": {
        "id": "VrziBGSU0tHz"
      },
      "execution_count": 16,
      "outputs": []
    }
  ]
}